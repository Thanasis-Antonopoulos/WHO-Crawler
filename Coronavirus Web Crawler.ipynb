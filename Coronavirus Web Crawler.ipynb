{
 "cells": [
  {
   "cell_type": "code",
   "execution_count": 1,
   "metadata": {},
   "outputs": [],
   "source": [
    "import requests\n",
    "from bs4 import BeautifulSoup\n",
    "from urllib.parse import urljoin\n",
    "import re\n",
    "import nltk\n",
    "from nltk.corpus import stopwords\n",
    "from sklearn.feature_extraction.text import TfidfVectorizer\n",
    "import collections\n",
    "import os"
   ]
  },
  {
   "cell_type": "code",
   "execution_count": 2,
   "metadata": {},
   "outputs": [
    {
     "name": "stderr",
     "output_type": "stream",
     "text": [
      "[nltk_data] Downloading package stopwords to\n",
      "[nltk_data]     C:\\Users\\athan\\AppData\\Roaming\\nltk_data...\n",
      "[nltk_data]   Package stopwords is already up-to-date!\n",
      "[nltk_data] Downloading package punkt to\n",
      "[nltk_data]     C:\\Users\\athan\\AppData\\Roaming\\nltk_data...\n",
      "[nltk_data]   Package punkt is already up-to-date!\n"
     ]
    },
    {
     "data": {
      "text/plain": [
       "True"
      ]
     },
     "execution_count": 2,
     "metadata": {},
     "output_type": "execute_result"
    }
   ],
   "source": [
    "# Download necessary NLTK data\n",
    "nltk.download('stopwords')\n",
    "nltk.download('punkt')"
   ]
  },
  {
   "cell_type": "code",
   "execution_count": 3,
   "metadata": {},
   "outputs": [],
   "source": [
    "# Constants\n",
    "BASE_URL = \"https://www.who.int/emergencies/diseases/novel-coronavirus-2019\"\n",
    "KEYWORDS = ['coronavirus', 'Covid', 'SARS-CoV-2', 'Coronavirus', 'COVID']\n",
    "STOPWORDS = set(stopwords.words('english'))"
   ]
  },
  {
   "cell_type": "code",
   "execution_count": 4,
   "metadata": {},
   "outputs": [],
   "source": [
    "# Function to clean tokens\n",
    "def clean_token(token):\n",
    "    return re.match(r'[^\\w\\s]+$', token) is None"
   ]
  },
  {
   "cell_type": "code",
   "execution_count": 5,
   "metadata": {},
   "outputs": [],
   "source": [
    "# Step 1: Crawl the main page and collect relevant links\n",
    "def crawl_links(base_url, keywords):\n",
    "    response = requests.get(base_url)\n",
    "    if response.status_code != 200:\n",
    "        raise Exception(f\"Failed to fetch URL: {base_url} (Status code: {response.status_code})\")\n",
    "\n",
    "    soup = BeautifulSoup(response.content, 'lxml')\n",
    "    links = soup.find_all('a')\n",
    "    relevant_links = []\n",
    "\n",
    "    for link in links:\n",
    "        href = link.get('href')\n",
    "        if href and any(keyword.lower() in href.lower() for keyword in keywords):\n",
    "            relevant_links.append(urljoin(base_url, href))\n",
    "\n",
    "    return list(set(relevant_links))  # Remove duplicates"
   ]
  },
  {
   "cell_type": "code",
   "execution_count": 6,
   "metadata": {},
   "outputs": [],
   "source": [
    "# Step 2: Extract text from each link\n",
    "def extract_text_from_links(links):\n",
    "    all_texts = []\n",
    "\n",
    "    for link in links:\n",
    "        try:\n",
    "            response = requests.get(link)\n",
    "            if response.status_code == 200:\n",
    "                soup = BeautifulSoup(response.content, 'lxml')\n",
    "                text = soup.get_text(separator=' ', strip=True)\n",
    "                all_texts.append(text)\n",
    "        except Exception as e:\n",
    "            print(f\"Failed to fetch or parse {link}: {e}\")\n",
    "\n",
    "    return all_texts"
   ]
  },
  {
   "cell_type": "code",
   "execution_count": 7,
   "metadata": {},
   "outputs": [],
   "source": [
    "# Step 3: Preprocess text\n",
    "def preprocess_text(texts):\n",
    "    tokenized_texts = []\n",
    "\n",
    "    for text in texts:\n",
    "        tokens = nltk.word_tokenize(text)\n",
    "        cleaned_tokens = [token.lower() for token in tokens if token.lower() not in STOPWORDS and clean_token(token)]\n",
    "        tokenized_texts.extend(cleaned_tokens)\n",
    "\n",
    "    return tokenized_texts"
   ]
  },
  {
   "cell_type": "code",
   "execution_count": 8,
   "metadata": {},
   "outputs": [],
   "source": [
    "# Step 4: Vectorize text using TF-IDF\n",
    "def vectorize_text(tokens, top_n=20):\n",
    "    vocabulary = collections.Counter(tokens).most_common(top_n)\n",
    "    vocab = [word for word, _ in vocabulary]\n",
    "\n",
    "    # Create TF-IDF vectorizer\n",
    "    vectorizer = TfidfVectorizer(vocabulary=vocab)\n",
    "    tfidf_matrix = vectorizer.fit_transform([\" \".join(tokens)])\n",
    "\n",
    "    return vectorizer.get_feature_names(), tfidf_matrix"
   ]
  },
  {
   "cell_type": "code",
   "execution_count": 9,
   "metadata": {},
   "outputs": [
    {
     "name": "stdout",
     "output_type": "stream",
     "text": [
      "Crawling links from the WHO website...\n",
      "Found 37 relevant links.\n",
      "Extracting text from links...\n",
      "Extracted text from 35 pages.\n",
      "Preprocessing text...\n",
      "Tokenized 47860 words.\n",
      "Vectorizing text using TF-IDF...\n",
      "TF-IDF Vocabulary: ['covid-19', 'health', 'episode', 'data', 'vaccines', 'disease', 'vaccine', 'coronavirus', 'global', '2023', 'country', 'countries', '2020', 'world', 'update', 'science', 'public', 'epidemiological', '5', 'response']\n",
      "TF-IDF Matrix Shape: (1, 20)\n",
      "Results saved in the 'output' directory.\n"
     ]
    }
   ],
   "source": [
    "# Main Workflow\n",
    "def main():\n",
    "    print(\"Crawling links from the WHO website...\")\n",
    "    links = crawl_links(BASE_URL, KEYWORDS)\n",
    "    print(f\"Found {len(links)} relevant links.\")\n",
    "\n",
    "    print(\"Extracting text from links...\")\n",
    "    texts = extract_text_from_links(links)\n",
    "    print(f\"Extracted text from {len(texts)} pages.\")\n",
    "\n",
    "    print(\"Preprocessing text...\")\n",
    "    tokens = preprocess_text(texts)\n",
    "    print(f\"Tokenized {len(tokens)} words.\")\n",
    "\n",
    "    print(\"Vectorizing text using TF-IDF...\")\n",
    "    vocab, tfidf_matrix = vectorize_text(tokens)\n",
    "    print(\"TF-IDF Vocabulary:\", vocab)\n",
    "    print(\"TF-IDF Matrix Shape:\", tfidf_matrix.shape)\n",
    "\n",
    "    # Save results for further analysis\n",
    "    if not os.path.exists(\"output\"):\n",
    "        os.makedirs(\"output\")\n",
    "\n",
    "    with open(\"output/crawled_links.txt\", \"w\") as f:\n",
    "        f.write(\"\\n\".join(links))\n",
    "\n",
    "    with open(\"output/tokens.txt\", \"w\", encoding=\"utf-8\") as f:\n",
    "        f.write(\" \".join(tokens))\n",
    "\n",
    "    print(\"Results saved in the 'output' directory.\")\n",
    "\n",
    "if __name__ == \"__main__\":\n",
    "    main()"
   ]
  }
 ],
 "metadata": {
  "kernelspec": {
   "display_name": "Python 3",
   "language": "python",
   "name": "python3"
  },
  "language_info": {
   "codemirror_mode": {
    "name": "ipython",
    "version": 3
   },
   "file_extension": ".py",
   "mimetype": "text/x-python",
   "name": "python",
   "nbconvert_exporter": "python",
   "pygments_lexer": "ipython3",
   "version": "3.8.3"
  }
 },
 "nbformat": 4,
 "nbformat_minor": 4
}
